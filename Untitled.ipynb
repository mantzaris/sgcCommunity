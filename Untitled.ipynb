{
 "cells": [
  {
   "cell_type": "code",
   "execution_count": 1,
   "metadata": {},
   "outputs": [
    {
     "name": "stdout",
     "output_type": "stream",
     "text": [
      "Hello Simplified Graph Convolutional Neural Nets on Community Structures!\n"
     ]
    }
   ],
   "source": [
    "println(\"Hello Simplified Graph Convolutional Neural Nets on Community Structures!\")"
   ]
  },
  {
   "cell_type": "code",
   "execution_count": null,
   "metadata": {},
   "outputs": [],
   "source": [
    "# GOAL OF RESEARCH\n",
    "#we show that the variable data is important and can override the topology data, and that this\n",
    "#disparity can grow with the number of variables and effectively overriding information.\n",
    "#Show the difference between a 'ground truth' and the previous expected. ROC curves please.\n",
    "#do a k-core or k-shell removal of the nodes to examine the error rates in comparison to the ground truth.\n",
    "#do the multivariate variate case as well..."
   ]
  },
  {
   "cell_type": "code",
   "execution_count": null,
   "metadata": {},
   "outputs": [],
   "source": [
    "#What is the data that we will use put in here an load\n",
    "#1 we need 2 synthetic data sets \n",
    "\n",
    "\n"
   ]
  },
  {
   "cell_type": "code",
   "execution_count": null,
   "metadata": {},
   "outputs": [],
   "source": [
    "#dataset of synthetic number 2, that is bigger and more complex community associations\n",
    "\n"
   ]
  },
  {
   "cell_type": "code",
   "execution_count": null,
   "metadata": {},
   "outputs": [],
   "source": [
    "#use the Zachary karate club data with preset side splits and infer from the unified set (type of clustering)\n",
    "\n",
    "\n",
    "\n"
   ]
  },
  {
   "cell_type": "code",
   "execution_count": null,
   "metadata": {},
   "outputs": [],
   "source": [
    "#search for a network science dataset that has community labels upon an aggregate of variables\n",
    "\n",
    "\n",
    "\n"
   ]
  },
  {
   "cell_type": "code",
   "execution_count": null,
   "metadata": {},
   "outputs": [],
   "source": [
    "#test on a new dataset that we don't know much about and see if the community labels match the labels we produce\n",
    "\n",
    "\n",
    "\n"
   ]
  },
  {
   "cell_type": "code",
   "execution_count": null,
   "metadata": {},
   "outputs": [],
   "source": [
    "\n",
    "\n",
    "\n"
   ]
  }
 ],
 "metadata": {
  "kernelspec": {
   "display_name": "Julia 1.1.1",
   "language": "julia",
   "name": "julia-1.1"
  },
  "language_info": {
   "file_extension": ".jl",
   "mimetype": "application/julia",
   "name": "julia",
   "version": "1.1.1"
  }
 },
 "nbformat": 4,
 "nbformat_minor": 2
}
